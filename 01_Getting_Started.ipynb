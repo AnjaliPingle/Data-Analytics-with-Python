{
 "cells": [
  {
   "cell_type": "markdown",
   "id": "f88f3b4e-5bca-46fe-9870-7e9a786091ee",
   "metadata": {},
   "source": [
    "### Getting Started w/ Jupyter Notebooks in Colab\n",
    "#### Options to create a Colab Notebook:\n",
    "- Go to colab.research.google.com\n",
    "- Or in drive.google.com\n",
    "    - Select \"+ New\" in top right hand corner\n",
    "    - Select \"More\" and then \"Google Colaboratory\"\n",
    "\n",
    "NOTE: For both options you must be logged in to Google\n"
   ]
  },
  {
   "cell_type": "markdown",
   "id": "a467f367-935c-4473-b9e0-8eb5756e2fc7",
   "metadata": {},
   "source": [
    "#### Adding and moving cells\n",
    "Add new cells by using the + CODE and + TEXT buttons that show when you hover between cells.\n",
    "\n",
    "You can move a cell by selecting it and clicking Cell Up or Cell Down in the top toolbar."
   ]
  },
  {
   "cell_type": "markdown",
   "id": "9bde49eb-b874-4283-8334-14602a6e69d3",
   "metadata": {},
   "source": [
    "### Markdown Cell vs. Python Cell"
   ]
  },
  {
   "cell_type": "markdown",
   "id": "f88a2142-a46a-4e33-824f-518cd8ceac6e",
   "metadata": {},
   "source": [
    "#### Markdown Example\n",
    "\n",
    "This is a markdown cell."
   ]
  },
  {
   "cell_type": "markdown",
   "id": "638facae-ad71-4a8a-aeef-fbbb85e93a18",
   "metadata": {},
   "source": [
    "#### Python Example\n"
   ]
  },
  {
   "cell_type": "code",
   "execution_count": 1,
   "id": "c64ec6fd-0226-493c-8082-2f921e4f8644",
   "metadata": {},
   "outputs": [
    {
     "data": {
      "text/plain": [
       "'This is a python cell'"
      ]
     },
     "execution_count": 1,
     "metadata": {},
     "output_type": "execute_result"
    }
   ],
   "source": [
    "\"This is a python cell\""
   ]
  },
  {
   "cell_type": "markdown",
   "id": "2b1f4c15-703a-47c7-8509-95492e326b42",
   "metadata": {},
   "source": [
    "### How to Run a Cell\n",
    "\n",
    "Easy Way: Click the run button.\n",
    "\n",
    "Pro Way: With cell selected type Cmd/Ctrl+Enter.\n",
    "\n",
    "Other Pro Tips:\n",
    "\n",
    " - Type Shift+Enter to run the cell and move selection to the next cell\n",
    " - Type Alt+Enter to run the cell and insert a new code cell below it"
   ]
  },
  {
   "cell_type": "code",
   "execution_count": null,
   "id": "cb726054-86da-4b13-9d93-c7f66f11e154",
   "metadata": {},
   "outputs": [],
   "source": []
  }
 ],
 "metadata": {
  "kernelspec": {
   "display_name": "Python 3 (ipykernel)",
   "language": "python",
   "name": "python3"
  },
  "language_info": {
   "codemirror_mode": {
    "name": "ipython",
    "version": 3
   },
   "file_extension": ".py",
   "mimetype": "text/x-python",
   "name": "python",
   "nbconvert_exporter": "python",
   "pygments_lexer": "ipython3",
   "version": "3.12.7"
  }
 },
 "nbformat": 4,
 "nbformat_minor": 5
}
